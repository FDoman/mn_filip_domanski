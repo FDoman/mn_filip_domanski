{
 "cells": [
  {
   "cell_type": "markdown",
   "metadata": {
    "slideshow": {
     "slide_type": "notes"
    }
   },
   "source": [
    "# <center>Laboratorium 1<br>Metody Numeryczne</center>"
   ]
  },
  {
   "cell_type": "markdown",
   "metadata": {},
   "source": [
    "Biblioteki niezbędne do wykonania zadania:\n",
    "\n",
    "(wykonanie tego bloku zapewnia do nich dostęp w kolejnych blokach)"
   ]
  },
  {
   "cell_type": "code",
   "execution_count": 112,
   "metadata": {},
   "outputs": [],
   "source": [
    "import main\n",
    "\n",
    "import numpy as np\n",
    "import scipy"
   ]
  },
  {
   "cell_type": "markdown",
   "metadata": {},
   "source": [
    "Przydatne w trakcie zajęć mogą okazać się metody macierzy z pakietu Numpy, takie jak na przykład długość wektora - *[len]()* czy rozmiar macierzy -\n",
    "*[shape](https://docs.scipy.org/doc/numpy/reference/generated/numpy.ndarray.shape.html#numpy.ndarray.shape)*. Poniższy kod ilustruje ich podstawowe działanie. Dodatkowe metody obiektu $ndarray$ można znaleźć w oficjalnej *[dokumentacji](https://docs.scipy.org/doc/numpy/reference/arrays.ndarray.html)*."
   ]
  },
  {
   "cell_type": "code",
   "execution_count": 113,
   "metadata": {
    "tags": []
   },
   "outputs": [
    {
     "name": "stdout",
     "output_type": "stream",
     "text": [
      "Wektor:\n",
      "[1 2 3]\n",
      "Długość: 3\n",
      "Rozmiar: (3,) \n",
      "\n",
      "Macierz:\n",
      "[[1 2 3]\n",
      " [4 5 6]\n",
      " [7 8 9]]\n",
      "Rozmiar: (3, 3)\n"
     ]
    }
   ],
   "source": [
    "vector = np.array([1, 2, 3])\n",
    "print('Wektor:')\n",
    "print(vector)\n",
    "print('Długość:', len(vector))\n",
    "print('Rozmiar:', vector.shape, '\\n')\n",
    "\n",
    "matrix = np.array([[1, 2, 3], [4, 5, 6], [7, 8, 9]])\n",
    "print('Macierz:')\n",
    "print(matrix)\n",
    "print('Rozmiar:', matrix.shape)"
   ]
  },
  {
   "cell_type": "markdown",
   "metadata": {},
   "source": [
    "***Zadanie 1.***  \n",
    "Zaimplementuj funkcję $cylinder\\_area$ tak by zwracała pole powierzchni walca o promieniu podstawy $r$ i wysokości $h$. Stała $\\pi$ jest zdefiniowana np. w bibliotece *[math](https://docs.python.org/3/library/math.html#constants)*. Jeżeli nie da się policzyć pola funkcja powinna zwracać wartość *NaN*. Sprawdź działanie zaimplementowanej funkcji dla dowolnych wartości w tym notatniku."
   ]
  },
  {
   "cell_type": "code",
   "execution_count": 114,
   "metadata": {
    "pycharm": {
     "name": "#%%\n"
    }
   },
   "outputs": [
    {
     "name": "stdout",
     "output_type": "stream",
     "text": [
      "Pola powierzchni walców:\n",
      "\n",
      "r = 5.3 oraz h = 7.45:  424.58624713266056\n",
      "r = 0 oraz h = 3.56:  0.0\n",
      "r = -1 oraz h = 3:  nan\n"
     ]
    }
   ],
   "source": [
    "print(\"Pola powierzchni walców:\\n\")\n",
    "#Dodatnie argumenty\n",
    "r = 5.3\n",
    "h = 7.45\n",
    "print(\"r = 5.3 oraz h = 7.45: \", main.cylinder_area(r, h))\n",
    "\n",
    "#Argument równy zero\n",
    "r = 0\n",
    "h = 3.56\n",
    "print(\"r = 0 oraz h = 3.56: \", main.cylinder_area(r, h))\n",
    "\n",
    "#Argument ujemny - nieprawidłowe dane\n",
    "r = -1\n",
    "h = 3\n",
    "print(\"r = -1 oraz h = 3: \", main.cylinder_area(r, h))"
   ]
  },
  {
   "cell_type": "markdown",
   "source": [
    "Wniosek:\n",
    "\n",
    "Zaimplementowana funkcja $cylinder_area$ oblicza pole powierzchni całkowitej walca o zadanych parametrach $r$ oraz $h$. W przypadku podania ujemnej wartości któregoś z parametrów funkcja poprawnie zwraca wartość nieokreśloną NaN."
   ],
   "metadata": {
    "collapsed": false,
    "pycharm": {
     "name": "#%% md\n"
    }
   }
  },
  {
   "cell_type": "markdown",
   "metadata": {},
   "source": [
    "***Zadanie 2.***  \n",
    "Wygeneruj dowolne ciągi arytmetyczny o kroku różnym od jeden i niebędącym liczbą całkowitą, używając w tym celu funkcji *[arange](https://docs.scipy.org/doc/numpy/reference/generated/numpy.arange.html)* oraz *[linspace](https://docs.scipy.org/doc/numpy-1.10.0/reference/generated/numpy.linspace.html)*. Wypisz go i przeanalizuj otrzymane rezultaty."
   ]
  },
  {
   "cell_type": "code",
   "execution_count": 115,
   "metadata": {
    "pycharm": {
     "name": "#%%\n"
    }
   },
   "outputs": [
    {
     "name": "stdout",
     "output_type": "stream",
     "text": [
      "Ciąg od 0 do 5.2 z krokiem 0.2: \n",
      " [0.  0.2 0.4 0.6 0.8 1.  1.2 1.4 1.6 1.8 2.  2.2 2.4 2.6 2.8 3.  3.2 3.4\n",
      " 3.6 3.8 4.  4.2 4.4 4.6 4.8 5. ]\n",
      "\n",
      "Ciąg od 0 do 10 podzielony na 21 części w równych odstępach: \n",
      " [ 0.   0.5  1.   1.5  2.   2.5  3.   3.5  4.   4.5  5.   5.5  6.   6.5\n",
      "  7.   7.5  8.   8.5  9.   9.5 10. ]\n"
     ]
    }
   ],
   "source": [
    "x = np.arange(0, 5.2, 0.2)\n",
    "y = np.linspace(0, 10, 21)\n",
    "print(\"Ciąg od 0 do 5.2 z krokiem 0.2: \\n\", x)\n",
    "print(\"\\nCiąg od 0 do 10 podzielony na 21 części w równych odstępach: \\n\", y)"
   ]
  },
  {
   "cell_type": "markdown",
   "source": [
    "Wniosek:\n",
    "\n",
    "Ciągi zostały wygenerowane za pomocą funkcji $arange$ oraz $linspace$. Wynik otrzymany za pomocą funkcji $arange$ nie uwzględnia końca wybranego przedziału (przedział otwarty prawostronnie). Funkcja $linspace$ natomiast dzieli wybrany przedział na równe części uwzględniając jego koniec (przedział obustronnie domknięty).\n",
    "\n",
    "W przypadku generowania ciągu z krokiem innym niż całkowity lepszym rozwiązaniem jest wygenerowanie ciągu funkcją $linspace$."
   ],
   "metadata": {
    "collapsed": false
   }
  },
  {
   "cell_type": "markdown",
   "metadata": {},
   "source": [
    "***Zadanie 3.***  \n",
    "Zaimplementuj funkcję $fib$ zwracającą wektor pierszych n elementów *[ciągu Fibonnaciego](https://pl.wikipedia.org/wiki/Ci%C4%85g_Fibonacciego)*, jeżeli nie jest to możliwe funkcja powinna zwrócić wartość *None*."
   ]
  },
  {
   "cell_type": "code",
   "execution_count": 116,
   "outputs": [
    {
     "name": "stdout",
     "output_type": "stream",
     "text": [
      "Ciąg Fibonacciego dla dodatnich wartości argumentu n:\n",
      "n = 55:  [[          1           1           2           3           5           8\n",
      "           13          21          34          55          89         144\n",
      "          233         377         610         987        1597        2584\n",
      "         4181        6765       10946       17711       28657       46368\n",
      "        75025      121393      196418      317811      514229      832040\n",
      "      1346269     2178309     3524578     5702887     9227465    14930352\n",
      "     24157817    39088169    63245986   102334155   165580141   267914296\n",
      "    433494437   701408733  1134903170  1836311903 -1323752223   512559680\n",
      "   -811192543  -298632863 -1109825406 -1408458269  1776683621   368225352\n",
      "   2144908973]]\n",
      "n = 1:  [1]\n",
      "n = 2:  [1 1]\n",
      "\n",
      "n = 0:  None\n",
      "\n",
      "Ujemne n = -5:  None\n",
      "\n",
      "Wymierne n = 9.56:  None\n"
     ]
    }
   ],
   "source": [
    "#1\n",
    "print(\"Ciąg Fibonacciego dla dodatnich wartości argumentu n:\")\n",
    "print(\"n = 55: \", main.fib(55))\n",
    "print(\"n = 1: \", main.fib(1))\n",
    "print(\"n = 2: \", main.fib(2))\n",
    "\n",
    "#2\n",
    "print(\"\\nn = 0: \", main.fib(0))\n",
    "\n",
    "#3\n",
    "print(\"\\nUjemne n = -5: \", main.fib(-5))\n",
    "\n",
    "#4\n",
    "print(\"\\nWymierne n = 9.56: \", main.fib(9.56))"
   ],
   "metadata": {
    "collapsed": false,
    "pycharm": {
     "name": "#%%\n"
    }
   }
  },
  {
   "cell_type": "markdown",
   "source": [
    "Wniosek:\n",
    "\n",
    "Zaimplementowana funkcja $fib$ bezproblemowo oblicza ciąg Fibonacciego nawet dla wartości większych od 55, co byłoby niemal niemożliwe przy użyciu klasycznej rekurencji, a następnie wypisuje wynik w postaci obiektu klasy $ndarray$.\n",
    "\n",
    "W przypadku podania argumentu równego 0, argumentu ujemnego bądź wymiernego funkcja poprawnie zwraca wartość nieokreśloną None."
   ],
   "metadata": {
    "collapsed": false
   }
  },
  {
   "cell_type": "markdown",
   "metadata": {},
   "source": [
    "***Zadanie 4.***  \n",
    "Napisz funkję $matrix\\_calculations$ która jako argument przyjmuje dowolną wartość liczbową *a* i tworzy macierz:  \n",
    "  \n",
    "$\\mathbf{M} =\\left[ \\begin{matrix}\n",
    "a & 1 & -a\\\\\n",
    "0 & 1 & 1\\\\\n",
    "-a & a & 1\n",
    "\\end{matrix}\\right]\n",
    "$    \n",
    "   \n",
    "Dla zadeklarowanej macierzy wyznacz numerycznie macierz odwrotną $\\mathbf{Minv}$ (jeżeli nie istnieje taka macierz wartość wynosi NaN), macierz transponowaną $\\mathbf{Mt}$ i wyznacznik macierzy $\\mathbf{Mdet}$. Zwróć otrzymane wartości w postaci krotki postaci $(\\mathbf{Minv}, \\mathbf{Mt}, \\mathbf{Mdet})$.  Wypisz otrzymane wyniki. \n",
    "  \n",
    "***Wskazówki:*** Do tworzenia obiektów mających własności macierzy w języku Python używa się klasy *[array](https://docs.scipy.org/doc/numpy-1.15.1/reference/generated/numpy.array.html)* z pakietu *[numpy](http://www.numpy.org/)*, przykładowe użycie:"
   ]
  },
  {
   "cell_type": "code",
   "execution_count": 117,
   "metadata": {
    "scrolled": true,
    "tags": []
   },
   "outputs": [
    {
     "name": "stdout",
     "output_type": "stream",
     "text": [
      "Wektor poziomy:\n",
      " [1 2 3]\n",
      "Wektor pionowy:\n",
      " [[1]\n",
      " [2]\n",
      " [3]]\n",
      "Macierz:\n",
      " [[1 2]\n",
      " [3 4]]\n"
     ]
    }
   ],
   "source": [
    "import numpy as np # słowo kluczowe \"as\" oznacza przesłania nazwę numpy i pozwala  \n",
    "a = np.array([1, 2, 3])\n",
    "b = np.array([[1], [2], [3]])\n",
    "A = np.array([[1,2],[3,4]])\n",
    "print(\"Wektor poziomy:\\n {0}\".format(a))\n",
    "print(\"Wektor pionowy:\\n {0}\".format(b))\n",
    "print(\"Macierz:\\n {0}\".format(A))"
   ]
  },
  {
   "cell_type": "markdown",
   "metadata": {},
   "source": [
    "Do wykonania operacji odwracania macierzy należy użyć funkcji *[inv](https://docs.scipy.org/doc/numpy/reference/generated/numpy.linalg.inv.html)*, do obliczenia wyznacznika macierzy stosuje się funkcję *[det](https://docs.scipy.org/doc/numpy-1.15.0/reference/generated/numpy.linalg.det.html)*  z bliblioteki *[linalg](https://docs.scipy.org/doc/numpy/reference/routines.linalg.html)*. Natomiast transpozycję macierzy wykonujemy przez funkcję *[transpose](https://docs.scipy.org/doc/numpy-1.14.0/reference/generated/numpy.transpose.html)* której skrucona wersja to $M.T$ z pakietu *numpy*.  \n",
    "    \n",
    "*Ciekawostka:* Python natywnie nie zawiera struktury danych typu tablica, na poziomie języka jest to rozwiązane poprzez strukturę listy list do której elementów odwołuje się poprzez indeksy jak w C/C++."
   ]
  },
  {
   "cell_type": "code",
   "execution_count": 118,
   "outputs": [
    {
     "name": "stdout",
     "output_type": "stream",
     "text": [
      "Argument równy 5.\n",
      "Macierz odwrotna: \n",
      " [[ 0.08  0.52 -0.12]\n",
      " [ 0.1   0.4   0.1 ]\n",
      " [-0.1   0.6  -0.1 ]]\n",
      "Transpozycja macierzy: \n",
      " [[ 5  0 -5]\n",
      " [ 1  1  5]\n",
      " [-5  1  1]]\n",
      "Wyznacznik macierzy:  -49.99999999999997\n",
      "\n",
      "Argument równy 0.\n",
      "Macierz odwrotna: \n",
      " nan\n",
      "Transpozycja macierzy: \n",
      " [[0 0 0]\n",
      " [1 1 0]\n",
      " [0 1 1]]\n",
      "Wyznacznik macierzy:  0.0\n"
     ]
    }
   ],
   "source": [
    "Minv, Mt, Mdet = main.matrix_calculations(5)\n",
    "\n",
    "print('Argument równy 5.')\n",
    "print('Macierz odwrotna: \\n', Minv)\n",
    "print('Transpozycja macierzy: \\n', Mt)\n",
    "print('Wyznacznik macierzy: ', Mdet)\n",
    "\n",
    "Minv, Mt, Mdet = main.matrix_calculations(0)\n",
    "\n",
    "print('\\nArgument równy 0.')\n",
    "print('Macierz odwrotna: \\n', Minv)\n",
    "print('Transpozycja macierzy: \\n', Mt)\n",
    "print('Wyznacznik macierzy: ', Mdet)"
   ],
   "metadata": {
    "collapsed": false,
    "pycharm": {
     "name": "#%%\n"
    }
   }
  },
  {
   "cell_type": "markdown",
   "source": [
    "Wniosek:\n",
    "\n",
    "Napisana funkcja $matrix_calculations$ korzystając z wbudowanych funkcji $inv$, $det$ oraz $transpose$ poprawnie tworzy macierz oraz wykonuje zadane operacje. Funkcja najpierw liczy wyznacznik, aby w przypadku $Mdet$ równego 0 zwrócić wartość nieokreśloną None w miejsce macierzy odwrotnej."
   ],
   "metadata": {
    "collapsed": false,
    "pycharm": {
     "name": "#%% md\n"
    }
   }
  },
  {
   "cell_type": "markdown",
   "metadata": {},
   "source": [
    "***Zadanie 5.***  \n",
    "Stwórz w noataniku macierz:  \n",
    "$\\mathbf{M} =\\left[ \\begin{matrix}\n",
    "3 & 1 & -2 & 4\\\\\n",
    "0 & 1 & 1 & 5\\\\\n",
    "-2 & 1 & 1 & 6\\\\\n",
    "4 & 3 & 0 & 1\\\\\n",
    "\\end{matrix}\\right]\n",
    "$   \n",
    "Wypisz przy pomocy funkcji *print* następujące elementy macierzy $\\mathbf{M}$: $\\mathbf{M}_{1,1},\\mathbf{M}_{3,3},\\mathbf{M}_{3,2}$. Zdefiniuj wektor $\\mathbf{w1}$ którego elementy to trzecia kolumna macierzy $\\mathbf{M}$ oraz wektor $\\mathbf{w2}$ który składa się z drugiego wiersza tej macierzy.  \n",
    "  \n",
    "***Wskazówki:***\n",
    "Tablice z pakietu *numpy* są indeksowane od zera a do każdego elementu można odwołać się poprzez jego indeks. Przykład użycie\n"
   ]
  },
  {
   "cell_type": "code",
   "execution_count": 119,
   "metadata": {
    "tags": []
   },
   "outputs": [
    {
     "name": "stdout",
     "output_type": "stream",
     "text": [
      "Macierz P=\n",
      "[[1 3 2]\n",
      " [3 4 6]\n",
      " [7 8 9]]\n",
      "Elementy trzeciej kolumny:\n",
      " [2 6 9]\n",
      "Elementy trzeciego wiersza:\n",
      " [7 8 9]\n"
     ]
    }
   ],
   "source": [
    "# Inicjalizacja macierzy do przykładu\n",
    "P = np.array([[1,3,2],[3,4, 6],[7,8,9]])\n",
    "print(\"Macierz P=\\n{0}\".format(P))\n",
    "# wyciągnięcie trzeciej kolumny \n",
    "wektor1 = P[:,2]\n",
    "# wyciągnięcie trzeciego wiersza \n",
    "wektor2 = P[2,:]\n",
    "print(\"Elementy trzeciej kolumny:\\n {0}\".format(wektor1))\n",
    "print(\"Elementy trzeciego wiersza:\\n {0}\".format(wektor2))"
   ]
  },
  {
   "cell_type": "markdown",
   "metadata": {},
   "source": [
    "Dodatkowo twórcy biblioteki umożliwiają użytkownikowi na manipulację elementami tablicy poprzez operator ':', więcej szczegółów na temat jego użycia w artykule [NumPy for Matlab users](https://docs.scipy.org/doc/numpy/user/numpy-for-matlab-users.html#numpy-for-matlab-users)."
   ]
  },
  {
   "cell_type": "code",
   "execution_count": 120,
   "outputs": [
    {
     "name": "stdout",
     "output_type": "stream",
     "text": [
      "Macierz N=\n",
      "[[ 3  1 -2  4]\n",
      " [ 0  1  1  5]\n",
      " [-2  1  1  5]\n",
      " [ 4  3  0  1]]\n",
      "\n",
      "Element o indeksie 1,1:  3\n",
      "Element o indeksie 3,3:  1\n",
      "Element o indeksie 3,2:  1\n",
      "\n",
      "Trzecia kolumna macierzy:\n",
      " [-2  1  1  0]\n",
      "Drugi wiersz macierzy:\n",
      " [0 1 1 5]\n"
     ]
    }
   ],
   "source": [
    "#Inicjalizacja i wypisanie macierzy:\n",
    "M = np.array([[3, 1, -2, 4], [0, 1, 1, 5], [-2, 1, 1, 5], [4, 3, 0, 1]])\n",
    "print(\"Macierz N=\\n{0}\".format(M))\n",
    "#Wyciągnięcie elementów o podanych indeksach:\n",
    "print('\\nElement o indeksie 1,1: ', M[0][0])\n",
    "print('Element o indeksie 3,3: ', M[2][2])\n",
    "print('Element o indeksie 3,2: ', M[2][1])\n",
    "#Inicjalizacja oraz wypisanie wektorów:\n",
    "w1 = M[:,2]\n",
    "w2 = M[1,:]\n",
    "print(\"\\nTrzecia kolumna macierzy:\\n {0}\".format(w1))\n",
    "print(\"Drugi wiersz macierzy:\\n {0}\".format(w2))"
   ],
   "metadata": {
    "collapsed": false,
    "pycharm": {
     "name": "#%%\n"
    }
   }
  },
  {
   "cell_type": "markdown",
   "source": [
    "Wniosek:\n",
    "\n",
    "Utworzenie macierzy za pomocą klasy $array$ pozwala na swobodny dostęp do pojedynczych elementów indeksowaniem - [][], jak i do całych wierszy lub kolumn slicingiem - [:]."
   ],
   "metadata": {
    "collapsed": false,
    "pycharm": {
     "name": "#%% md\n"
    }
   }
  },
  {
   "cell_type": "markdown",
   "metadata": {},
   "source": [
    "***Zadanie 6.***   \n",
    "Uzupełnij funkcję $custom\\_matrix$, tak by parametry m, n określały wymiary macierzy wynikowej, która\n",
    "będzie wypełniona w/g algorytmu: jeśli indeks wiersza jest większy od indeksu kolumny\n",
    "wartością komórki jest indeks wiersza, w przeciwnym wypadku wartością komórki jest indeks\n",
    "kolumny. Funkcja jako wynik powinna zwracać uzupełnioną macierz, jeżeli nie jest to możliwe to powinna zwrócić *None*. Na koniec wyświetlić wynikową macierz dla dowolnych argumentów $m$, $n$ z przedziału $\\langle3,7\\rangle$.\n",
    "  \n",
    "***Wskazówka:*** Inicjalizacja pustej macierz wykonywana jest w pakiecie Numpy przy pomocy funkcji  *[zeros](https://docs.scipy.org/doc/numpy-1.15.0/reference/generated/numpy.zeros.html)*, zaś macierzy składającej się z jedynek *[ones](https://docs.scipy.org/doc/numpy/reference/generated/numpy.ones.html)*."
   ]
  },
  {
   "cell_type": "code",
   "execution_count": 121,
   "metadata": {
    "tags": []
   },
   "outputs": [
    {
     "name": "stdout",
     "output_type": "stream",
     "text": [
      "zero_matrix: \n",
      "[[0. 0.]\n",
      " [0. 0.]]\n",
      "ones_matrix: \n",
      "[[1.]\n",
      " [1.]\n",
      " [1.]]\n"
     ]
    }
   ],
   "source": [
    "zero_matrix = np.zeros((2, 2))\n",
    "ones_matrix = np.ones((3,1))\n",
    "\n",
    "print('zero_matrix: \\n{}'.format(zero_matrix))\n",
    "print('ones_matrix: \\n{}'.format(ones_matrix))"
   ]
  },
  {
   "cell_type": "code",
   "execution_count": 122,
   "outputs": [
    {
     "name": "stdout",
     "output_type": "stream",
     "text": [
      "matrix: \n",
      "[[0. 1. 2. 3.]\n",
      " [1. 1. 2. 3.]\n",
      " [2. 2. 2. 3.]]\n",
      "\n",
      "matrix: \n",
      "None\n"
     ]
    }
   ],
   "source": [
    "matrix = main.custom_matrix(3, 4)\n",
    "print('matrix: \\n{}'.format(matrix))\n",
    "\n",
    "matrix = main.custom_matrix(5, -1)\n",
    "print('\\nmatrix: \\n{}'.format(matrix))"
   ],
   "metadata": {
    "collapsed": false,
    "pycharm": {
     "name": "#%%\n"
    }
   }
  },
  {
   "cell_type": "markdown",
   "source": [
    "Wniosek:\n",
    "\n",
    "Zaimplementowana funkcja poprawnie uzupełnia wcześniej zdefiniowaną macierz według podanego algorytmu, jednak ze względu na jego specyfikę nie pozwala na utworzenie macierzy podając niedodatnie lub wymierne argumenty, zwracając wtedy wartość nieokreśloną None."
   ],
   "metadata": {
    "collapsed": false,
    "pycharm": {
     "name": "#%% md\n"
    }
   }
  },
  {
   "cell_type": "markdown",
   "metadata": {},
   "source": [
    "***Zadanie 7.***\n",
    "\n",
    "Biblioteka Numpy posiada własne metody, pozwalające na szybsze i wygotniejsze wykonywanie operacji na wektorach i macierzach. Kolejne zadania mają na celu przećwiczenie tych metod. Zamiast samemu implementować mnożenie macierzy, należy skorzystać właśnie z wbudowanych funkcji Numpy. Najbardzie podstawowe z nich to *[np.multiply](https://docs.scipy.org/doc/numpy-1.15.0/reference/generated/numpy.multiply.html)*, *[np.dot](https://docs.scipy.org/doc/numpy-1.15.0/reference/generated/numpy.dot.html)* oraz *[np.matmul](https://docs.scipy.org/doc/numpy-1.15.1/reference/generated/numpy.matmul.html)*. Przed wykonaniem zadania należy zapoznać się z ich dokumentacją, aby stosować poprawną funkcję do danego typu mnożenia. Dodatkowo ciekawą i użyteczną funkcjonalnością Numpy, wykorzystywaną niekiedy przy dodawaniu macierzy jest *broadcasting*, proszę o zapoznaie się z opisem:  *[[1]](https://docs.scipy.org/doc/numpy-1.15.0/user/basics.broadcasting.html)* *[[2]](https://www.tutorialspoint.com/numpy/numpy_broadcasting.htm)*.\n",
    "\n",
    "Zainicjalizować dwa wektory $v_1$ i $v_2$:\n",
    "\n",
    "$v_1 = \\begin{bmatrix}1\\\\3\\\\13\\end{bmatrix} \\quad v_2 = \\begin{bmatrix}8\\\\5\\\\-2\\end{bmatrix}$\n",
    "\n",
    "Następnie wykonać operacje i wypisać ich wynik:\n",
    "- $4*v_1$\n",
    "- $-v_2 + \\begin{bmatrix}2\\\\2\\\\2\\end{bmatrix}$\n",
    "- $v_1 \\circ v_2$ (w sensie mnożenia macierzy, tzw. mnożenie macierzy w sensie Cauchy’ego)\n",
    "- $v_1 * v_2$ (w sensie mnożenia Hadamarda (element-wise))\n",
    "\n",
    "***Wskazówki:*** Warto wiedzieć o *[np.dot](https://docs.scipy.org/doc/numpy-1.15.0/reference/generated/numpy.dot.html)* i *[np.multiply](https://docs.scipy.org/doc/numpy-1.15.0/reference/generated/numpy.multiply.html)*. Zbadać jak zachowuje się przeciążony operator mnożenia $*$ oraz $@$ dla macierzy $ndarray$."
   ]
  },
  {
   "cell_type": "code",
   "execution_count": 123,
   "outputs": [
    {
     "name": "stdout",
     "output_type": "stream",
     "text": [
      "4 * v1: \n",
      " [[ 4]\n",
      " [12]\n",
      " [52]]\n",
      "\n",
      "-v2 + [2 2 2]: \n",
      " [[-6]\n",
      " [-3]\n",
      " [ 4]]\n",
      "\n",
      "v1 v2: Nieprawidłowe dane dla mnożenie w sensie Cauchy'ego.\n",
      "\n",
      "v1 * v2: \n",
      " [[  8]\n",
      " [ 15]\n",
      " [-26]]\n"
     ]
    }
   ],
   "source": [
    "#Inicjalizacja wektorów v1 i v2:\n",
    "v1 = np.array([[1], [3], [13]])\n",
    "v2 = np.array([[8], [5], [-2]])\n",
    "\n",
    "#Operacje na wektorach:\n",
    "v3 = 4 * v1\n",
    "print(\"4 * v1: \\n\", v3)\n",
    "\n",
    "v4 = -v2 + np.array([[2], [2], [2]])\n",
    "print(\"\\n-v2 + [2 2 2]: \\n\", v4)\n",
    "\n",
    "# v5 = np.matmul(v1, v2)\n",
    "print(\"\\nv1 v2: Nieprawidłowe dane dla mnożenie w sensie Cauchy'ego.\")\n",
    "\n",
    "v6 = np.multiply(v1, v2)\n",
    "print(\"\\nv1 * v2: \\n\", v6)"
   ],
   "metadata": {
    "collapsed": false,
    "pycharm": {
     "name": "#%%\n"
    }
   }
  },
  {
   "cell_type": "markdown",
   "source": [
    "Wniosek:\n",
    "\n",
    "Definiowanie wektorów za pomocą klasy $array$ pozwala na mnożenie ich różnymi sposobami. W przypadku mnożenia przez skalar oraz dodawania wystarczają zwykłe operatory: * oraz +. Mnożenie w sensie Hadamarda polega na wymnażaniu elementów o odpowiadających sobie indeksach np. za pomocą funkcji multiply. W wypadku mnożenia w sensie Cauchy'ego obiektów z klasy $ndarray$ można zamiennie użyć funkcji $matmul$ lub operatora @. Mnożenie to jednak nie jest dozwolone w każdym przypadku - liczba kolumn pierwszej macierzy oraz wierszy drugiej macierzy muszą być takie same. Z tego powodu nie da się wymnożyć dwóch wektorów kolumnowych w sensie Cauchy'ego."
   ],
   "metadata": {
    "collapsed": false,
    "pycharm": {
     "name": "#%% md\n"
    }
   }
  },
  {
   "cell_type": "markdown",
   "metadata": {},
   "source": [
    "***Zadanie 8.***\n",
    "Zainicjalizować macierz $M_1$:\n",
    "\n",
    "$M_1 = \\begin{bmatrix}1&-7&3\\\\-12&3&4\\\\5&13&-3\\end{bmatrix}$\n",
    "\n",
    "Następnie wykonać operacje i wypisać ich wynik:\n",
    "- $3M_1$\n",
    "- $3M_1 + \\begin{bmatrix}1&1&1\\\\1&1&1\\\\1&1&1\\end{bmatrix}$\n",
    "- $M_1^T$\n",
    "- $M_1 \\circ v_1$ \n",
    "- $v_2^T \\circ M_1$"
   ]
  },
  {
   "cell_type": "code",
   "execution_count": 124,
   "outputs": [
    {
     "name": "stdout",
     "output_type": "stream",
     "text": [
      "Macierz M1=\n",
      "[[  1  -7   3]\n",
      " [-12   3   4]\n",
      " [  5  13  -3]]\n",
      "\n",
      "3M1: \n",
      "[[  3 -21   9]\n",
      " [-36   9  12]\n",
      " [ 15  39  -9]]\n",
      "\n",
      "3M1 + macierz jednostkowa 3x3: \n",
      "[[  4 -20  10]\n",
      " [-35  10  13]\n",
      " [ 16  40  -8]]\n",
      "\n",
      "M1': \n",
      "[[  1 -12   5]\n",
      " [ -7   3  13]\n",
      " [  3   4  -3]]\n",
      "\n",
      "M1 v1: \n",
      "[[19]\n",
      " [49]\n",
      " [ 5]]\n",
      "\n",
      "v2' M1': \n",
      "[[-62 -67  50]]\n"
     ]
    }
   ],
   "source": [
    "#Inicjalizacja i wypisanie macierzy M1:\n",
    "M1 = np.array([[1, -7, 3], [-12, 3, 4], [5, 13, -3]])\n",
    "print(\"Macierz M1=\\n{0}\".format(M1))\n",
    "\n",
    "#Operacje na macierzy M1 i wypisanie ich wyników:\n",
    "M2 = 3 * M1\n",
    "print(\"\\n3M1: \\n{0}\".format(M2))\n",
    "\n",
    "M3 = M2 + np.array([[1, 1, 1], [1, 1, 1], [1, 1, 1]])\n",
    "print(\"\\n3M1 + macierz jednostkowa 3x3: \\n{0}\".format(M3))\n",
    "\n",
    "M4 = M1.transpose()\n",
    "print(\"\\nM1': \\n{0}\".format(M4))\n",
    "\n",
    "#Inicjalizacja wektorów v1 i v2 z zadania 7:\n",
    "v1 = np.array([[1], [3], [13]])\n",
    "v2 = np.array([[8], [5], [-2]])\n",
    "\n",
    "M5 = np.matmul(M1, v1)\n",
    "print(\"\\nM1 v1: \\n{0}\".format(M5))\n",
    "\n",
    "M6 = np.matmul(v2.transpose(), M1)\n",
    "print(\"\\nv2' M1': \\n{0}\".format(M6))"
   ],
   "metadata": {
    "collapsed": false,
    "pycharm": {
     "name": "#%%\n"
    }
   }
  },
  {
   "cell_type": "markdown",
   "source": [
    "Wniosek:\n",
    "\n",
    "Macierze zdefiniowane za pomocą klasy $ndarray$ zachowują się analogicznie do wektorów z zadania 7. Z powodzeniem można wykonywać na nich operacje mnożenia przez skalar, dodawania, transpozycji oraz mnożenia w sensie Cauchy'ego, jeśli tylko wymiary zadanych macierzy na to pozwalają."
   ],
   "metadata": {
    "collapsed": false,
    "pycharm": {
     "name": "#%% md\n"
    }
   }
  },
  {
   "cell_type": "markdown",
   "metadata": {},
   "source": [
    "Materiały uzupełniające:\n",
    "- [Scipy Lecture Notes](http://www.scipy-lectures.org/index.html)\n",
    "- [NumPy for Matlab users](https://docs.scipy.org/doc/numpy/user/numpy-for-matlab-users.html#numpy-for-matlab-users)\n",
    "- [Python Tutorial - W3Schools](https://www.w3schools.com/python/default.asp)\n",
    "- [NumPy](https://www.numpy.org)\n",
    "- [Matplotlib](https://matplotlib.org/)\n",
    "- [Anaconda](https://www.anaconda.com/)\n",
    "- [Learn Python for Data Science](https://www.datacamp.com/learn-python-with-anaconda?utm_source=Anaconda_download&utm_campaign=datacamp_training&utm_medium=banner)\n",
    "- [Learn Python](https://www.learnpython.org/)\n",
    "- [Wujek Google](https://google.pl) i [Ciocia Wikipedia](https://pl.wikipedia.org/wiki/Wikipedia:Strona_g%C5%82%C3%B3wna)"
   ]
  },
  {
   "cell_type": "markdown",
   "source": [
    "Podsumowanie:\n",
    "\n",
    "Wszystkie funkcje opracowane w pliku main.py z powodzeniem przeszły przewidziane testy jednostkowe.\n",
    "\n",
    "Zadania zawarte w powyższym skrypcie pozwoliły na zapoznanie się z podstawowymi metodami oraz obiektami biblioteki NumPy. Umożliwia ona m.in. łatwe definiowanie ciągów arytmetycznych (funkcje $arange$ oraz $linspace$) bądź wektorów i macierzy (klasa $ndarray$) w języku Python. Korzystanie z macierzy jako obiektów klasy $ndarray$ pozwala na wykonywanie operacji indeksowania, slicingu i transpozycji oraz podstawowych operacji matematycznych w tym: dodawania oraz różnego rodzaju mnożenia przy zachowaniu odpowiednich wymiarów zadanych macierzy np. dla mnożenia w sensie Cauchy'ego."
   ],
   "metadata": {
    "collapsed": false,
    "pycharm": {
     "name": "#%% md\n"
    }
   }
  }
 ],
 "metadata": {
  "celltoolbar": "Raw Cell Format",
  "kernelspec": {
   "display_name": "Python 3 (ipykernel)",
   "language": "python",
   "name": "python3"
  },
  "language_info": {
   "codemirror_mode": {
    "name": "ipython",
    "version": 3
   },
   "file_extension": ".py",
   "mimetype": "text/x-python",
   "name": "python",
   "nbconvert_exporter": "python",
   "pygments_lexer": "ipython3",
   "version": "3.8.8"
  }
 },
 "nbformat": 4,
 "nbformat_minor": 2
}